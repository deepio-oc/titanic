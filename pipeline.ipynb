{
 "cells": [
  {
   "cell_type": "code",
   "execution_count": null,
   "metadata": {},
   "outputs": [],
   "source": [
    "import sys\n",
    "!{sys.executable} -m pip install kfp >/dev/null"
   ]
  },
  {
   "cell_type": "code",
   "execution_count": null,
   "metadata": {},
   "outputs": [],
   "source": [
    "import os\n",
    "import kfp"
   ]
  },
  {
   "cell_type": "code",
   "execution_count": null,
   "metadata": {},
   "outputs": [],
   "source": [
    "components_url = \"https://raw.githubusercontent.com/oneconvergence/dkube/master/components/\"\n",
    "dkube_training_op = kfp.components.load_component_from_url(components_url + \"training/component.yaml\")\n",
    "dkube_storage_op  = kfp.components.load_component_from_url(components_url + \"storage/component.yaml\")\n"
   ]
  },
  {
   "cell_type": "code",
   "execution_count": null,
   "metadata": {},
   "outputs": [],
   "source": [
    "@kfp.dsl.pipeline(\n",
    "    name='dkube-titanic-pl',\n",
    "    description='sample titanic pipeline with dkube components'\n",
    ")\n",
    "def titanic_pipeline(token):\n",
    "\n",
    "    train       = dkube_training_op(token, '{\"image\":\"ocdr/dkube-datascience-tf-cpu:v2.0.0\"}',\n",
    "                                    framework=\"tensorflow\", version=\"2.0.0\",\n",
    "                                    program=\"titanic\", run_script=\"python train.py\",\n",
    "                                    datasets='[\"titanic\"]', outputs='[\"titanic\"]',\n",
    "                                    input_dataset_mounts='[\"/titanic\"]',\n",
    "                                    output_mounts='[\"/model\"]',envs='[{\"EPOCHS\": \"1\"}]')\n",
    "\n",
    "    input_volumes = json.dumps([\"titanic-test-dataset@dataset://ocdkube:titanic-test\",\n",
    "                                \"titanic-model@model://titanic\",\n",
    "                                \"titanic-code@project://titanic\"\n",
    "                                ])\n",
    "    storage     = dkube_storage_op(auth_token=token, input_volumes=input_volumes).after(train)\n",
    "    \n",
    "    predict_op = ContainerOp(\n",
    "        name=\"predict\",\n",
    "        image=\"ocdr/dkube-datascience-tf-cpu:v2.0.0\",\n",
    "        command=[\"python\", \"/code/predict.py\"],\n",
    "        pvolumes={\"/dataset/\": kfp.dsl.PipelineVolume(pvc=\"titanic-eval-dataset\"),\n",
    "                 \"/model/\": kfp.dsl.PipelineVolume(pvc=\"titanic-model\"),\n",
    "                 \"/code/\": kfp.dsl.PipelineVolume(pvc=\"titanic-code\")\n",
    "                 },\n",
    "        file_outputs={\"output\": \"/tmp/prediction.csv\"},\n",
    "    ).after(storage)\n",
    "\n",
    "    submit_op = ContainerOp(\n",
    "        name=\"submit\",\n",
    "        image=\"ocdr/d3project_eval\",\n",
    "        command=[\n",
    "            \"python\",\n",
    "            \"submit.py\",\n",
    "            kfp.dsl.RUN_ID_PLACEHOLDER,\n",
    "            \"-t\",\n",
    "            token,\n",
    "            predictions,\n",
    "        ],\n",
    "        file_outputs={\n",
    "            \"mlpipeline-ui-metadata\": \"/metadata.json\",\n",
    "            \"results\": \"/results\",\n",
    "        },\n",
    "    )\n",
    "    env_var = V1EnvVar(name=\"DKUBE_PROJECT_ID\", value=project_id)\n",
    "    submit_op.add_env_variable(env_var)"
   ]
  },
  {
   "cell_type": "code",
   "execution_count": null,
   "metadata": {},
   "outputs": [],
   "source": [
    "token  = os.getenv(\"DKUBE_USER_ACCESS_TOKEN\")\n",
    "client = kfp.Client(existing_token=token)\n",
    "client.create_run_from_pipeline_func(titanic_pipeline, arguments={\"token\":token})"
   ]
  }
 ],
 "metadata": {
  "kernelspec": {
   "display_name": "Python 3",
   "language": "python",
   "name": "python3"
  },
  "language_info": {
   "codemirror_mode": {
    "name": "ipython",
    "version": 3
   },
   "file_extension": ".py",
   "mimetype": "text/x-python",
   "name": "python",
   "nbconvert_exporter": "python",
   "pygments_lexer": "ipython3",
   "version": "3.6.8"
  }
 },
 "nbformat": 4,
 "nbformat_minor": 4
}